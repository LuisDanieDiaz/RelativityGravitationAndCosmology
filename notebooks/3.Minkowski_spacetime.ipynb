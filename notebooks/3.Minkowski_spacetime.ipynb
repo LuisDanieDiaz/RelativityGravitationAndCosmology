{
 "cells": [
  {
   "cell_type": "markdown",
   "id": "a6b45aca",
   "metadata": {},
   "source": [
    "Puedes abrir este notebook en Google Colab haciendo clic en el siguiente botón:\n",
    "\n",
    "<a target=\"_blank\" href=\"https://colab.research.google.com/github/LuisDanielDiaz/RelativityGravitationAndCosmology/blob/main/notebooks/3.Minkowski_spacetime.ipynb\">\n",
    "  <img src=\"https://colab.research.google.com/assets/colab-badge.svg\" alt=\"Open in Colab\"/>\n",
    "</a>"
   ]
  },
  {
   "cell_type": "markdown",
   "id": "fd97620f",
   "metadata": {},
   "source": [
    "Instalación de librerías necesarias"
   ]
  },
  {
   "cell_type": "code",
   "execution_count": null,
   "id": "c972d1b1",
   "metadata": {
    "vscode": {
     "languageId": "plaintext"
    }
   },
   "outputs": [],
   "source": [
    "import sys\n",
    "import os\n",
    "\n",
    "if 'google.colab' in sys.modules:\n",
    "    !pip install -q -r https://raw.githubusercontent.com/LuisDanieDiaz/RelativityGravitationAndCosmology/main/requirements.txt\n",
    "    !pip install --force-reinstall -q git+https://github.com/LuisDanieDiaz/RelativityGravitationAndCosmology.git\n",
    "    \n",
    "\n",
    "else:\n",
    "    # Local\n",
    "    # %load_ext autoreload\n",
    "    # %autoreload 2\n",
    "\n",
    "    parent_dir = os.path.dirname(os.getcwd())\n",
    "\n",
    "    if parent_dir not in sys.path:\n",
    "        sys.path.insert(0, parent_dir)\n",
    "    \n",
    "    my_relativity_path = os.path.join(parent_dir, 'my_relativity')\n",
    "    if os.path.exists(my_relativity_path) and my_relativity_path not in sys.path:\n",
    "        sys.path.insert(0, my_relativity_path)\n"
   ]
  }
 ],
 "metadata": {
  "language_info": {
   "name": "python"
  }
 },
 "nbformat": 4,
 "nbformat_minor": 5
}
