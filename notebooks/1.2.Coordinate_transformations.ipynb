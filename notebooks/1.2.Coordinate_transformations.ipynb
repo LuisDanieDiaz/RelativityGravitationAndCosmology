{
 "cells": [
  {
   "cell_type": "markdown",
   "id": "95567b02",
   "metadata": {},
   "source": [
    "Puedes abrir este notebook en Google Colab haciendo clic en el siguiente botón:\n",
    "\n",
    "\n",
    "[![Open in colab](https://colab.research.google.com/assets/colab-badge.svg)](https://colab.research.google.com/github/LuisDanieDiaz/RelativityGravitationAndCosmology/blob/main/notebooks/1.2.Coordinate_transformations.ipynb)"
   ]
  },
  {
   "cell_type": "markdown",
   "id": "a9daaf97",
   "metadata": {},
   "source": [
    "Instalación de librerías necesarias"
   ]
  },
  {
   "cell_type": "code",
   "execution_count": 1,
   "id": "8a90ece7",
   "metadata": {},
   "outputs": [
    {
     "name": "stdout",
     "output_type": "stream",
     "text": [
      "\u001b[31mERROR: 404 Client Error: Not Found for url: https://raw.githubusercontent.com/usuario/repo/main/requirements.txt\u001b[0m\u001b[31m\n",
      "\u001b[0m"
     ]
    }
   ],
   "source": [
    "!pip install -r https://raw.githubusercontent.com/usuario/repo/main/requirements.txt"
   ]
  },
  {
   "cell_type": "markdown",
   "id": "355ad52f",
   "metadata": {},
   "source": [
    "# 1.2. Coordinate transformations"
   ]
  },
  {
   "cell_type": "markdown",
   "id": "7f57f495",
   "metadata": {},
   "source": [
    "Una teoría de la relatividad, tiene como objetivo describir cómo se relacionan las observaciones dados dos marcos de referencia. En el caso de la relatividad especial, estos observadores son inerciales, es decir, se mueven a velocidad constante entre sí."
   ]
  },
  {
   "cell_type": "markdown",
   "id": "61b9ebfb",
   "metadata": {},
   "source": [
    "Dado que trabajaremos bajo este concepto, es muy útil definir una **Configuración estándar**, que usaremos constantemente."
   ]
  },
  {
   "cell_type": "markdown",
   "id": "8707595f",
   "metadata": {},
   "source": [
    "> Definición: **Configuración estándar**\n",
    "> \n",
    "> Dados dos sistemas de referencia $S$ y $S'$:\n",
    "> - $S'$ es inercial respecto a S y se mueve con velocidad $V$ respecto a $S$ a lo largo del eje $x$.\n",
    "> - Los correspondientes ejes de coordenadas son $x$, $y$, $z$ y $x'$, $y'$, $z'$ son paralelos.\n",
    "> - El origen de $S'$ coincide con el origen de $S$ en el instante inicial $t = t' = 0$."
   ]
  },
  {
   "cell_type": "markdown",
   "id": "1da4d589",
   "metadata": {},
   "source": [
    "Trabajaremos en un sistema con coordenadas $(t, x, y, z)$ para el sistema $S$ y $(t', x', y', z')$ para el sistema $S'$."
   ]
  },
  {
   "cell_type": "code",
   "execution_count": null,
   "id": "0500179b",
   "metadata": {},
   "outputs": [],
   "source": []
  },
  {
   "cell_type": "markdown",
   "id": "46fa479f",
   "metadata": {},
   "source": [
    "## 1.2.1. The Galilean transformations"
   ]
  },
  {
   "cell_type": "markdown",
   "id": "ece9cec8",
   "metadata": {},
   "source": [
    "Anterior al desarrollo de una teoría moderna de relatividad, se tomaban ciertas asunciones para describir el movimiento de los cuerpos, como por ejemplo, que el tiempo es el mismo para todos los observadores. Estas son las transformaciones galileanas, que parecen ser intuitivas."
   ]
  },
  {
   "cell_type": "markdown",
   "id": "0f9d9ebb",
   "metadata": {},
   "source": [
    "> **Transformaciones Galileanas**\n",
    ">\n",
    "> Con una configuración estándar, las transformaciones entre los sistemas de referencia $S$ y $S'$ son:\n",
    "> - $t' = t$\n",
    "> - $x' = x - Vt$\n",
    "> - $y' = y$\n",
    "> - $z' = z$"
   ]
  },
  {
   "cell_type": "markdown",
   "id": "154101a8",
   "metadata": {},
   "source": [
    "el problema es que la asunción de que el tiempo es el mismo para todos los observadores no es cierta, por lo que es necesario aplicar una transformación diferente para describir el movimiento de los cuerpos, y hacerlo compatible con las leyes de la física."
   ]
  },
  {
   "cell_type": "markdown",
   "id": "81e808ee",
   "metadata": {},
   "source": [
    "## 1.2.2 The Lorentz transformations"
   ]
  },
  {
   "cell_type": "markdown",
   "id": "8012c5fd",
   "metadata": {},
   "source": [
    "Dado que el problema surge de tomar como cierto algunas sentencias infundadas, Einstein se basó en dos postulados, de los que se deducen las transformaciones. Si embargo, dicho resultado ya había sido obtenido por Lorentz, en un contexto diferente, por lo que llevan su nombre. Estas son dichas transformaciones:"
   ]
  },
  {
   "cell_type": "markdown",
   "id": "5c75ae8b",
   "metadata": {},
   "source": [
    "> **Transformaciones de Lorentz**\n",
    "> \n",
    ">  Con una configuración estándar, las transformaciones entre los sistemas de referencia $S$ y $S'$ son:\n",
    "> - $t' = \\frac{\\left( t - \\frac{V}{c^2} x \\right)}{\\sqrt{1 - \\frac{V^2}{c^2}}} $\n",
    "> - $x' = \\frac{(x - Vt)}{\\sqrt{1 - \\frac{V^2}{c^2}}} $\n",
    "> - $y' = y$\n",
    "> - $z' = z$"
   ]
  },
  {
   "cell_type": "markdown",
   "id": "5ceb68ed",
   "metadata": {},
   "source": [
    "Estas transformaciones son diferentes a las galileanas, pues muestran un tiempo no absoluto, y a demás, una mezcla entre el espacio y el tiempo inseparable, el tiempo primado depende tanto del tiempo del sistema no primado, como de la posición."
   ]
  },
  {
   "cell_type": "markdown",
   "id": "e0ab974e",
   "metadata": {},
   "source": [
    "Adicionalmente, el factor $\\sqrt{1 - \\frac{V^2}{c^2}}$ es conocido como el **factor de Lorentz** y se denota como $\\gamma(V)$, en donde se enfatiza que dicho factor es dependiente de la velocidad relativa entre los sistemas de referencia."
   ]
  },
  {
   "cell_type": "markdown",
   "id": "9468dc82",
   "metadata": {},
   "source": [
    "> **Transformaciones de Lorentz con factor de Lorentz**\n",
    ">\n",
    "> Con una configuración estándar, las transformaciones entre los sistemas de referencia $S$ y $S'$ son:\n",
    "> - $t' = \\gamma(V) \\left( t - \\frac{V}{c^2} x \\right)$\n",
    "> - $x' = \\gamma(V) (x - Vt)$\n",
    "> - $y' = y$\n",
    "> - $z' = z$"
   ]
  },
  {
   "cell_type": "markdown",
   "id": "41fda7fb",
   "metadata": {},
   "source": [
    "Para velocidades mucho menores a la de la luz, $V \\ll c$, el factor de Lorentz se puede aproximar como $\\gamma(V) \\approx 1$, por lo que las transformaciones de Lorentz se convierten en las galileanas.Por otra parte, a medida que se acerca a la velocidad de la luz, $V \\to c$, el factor de Lorentz se vuelve muy grande y toma mucha más relevancia."
   ]
  },
  {
   "cell_type": "markdown",
   "id": "969b7325",
   "metadata": {},
   "source": [
    "### Representaciones de las transformaciones de Lorentz"
   ]
  },
  {
   "cell_type": "markdown",
   "id": "9ab1a855",
   "metadata": {},
   "source": [
    "Dado que las transformaciones de Lorentz son muy relevantes, se pueden representar de diferentes maneras. En representación matricial por ejemplo:\n",
    "\n",
    "$$\\begin{pmatrix}\n",
    "c t' \\\\\n",
    "x' \\\\\n",
    "y' \\\\\n",
    "z'\n",
    "\\end{pmatrix}\n",
    "=\n",
    "\\begin{pmatrix}\n",
    "\\gamma(V) & -\\gamma(V) V/c & 0 & 0 \\\\\n",
    "-\\gamma(V) V/c & \\gamma(V) & 0 & 0 \\\\\n",
    "0 & 0 & 1 & 0 \\\\\n",
    "0 & 0 & 0 & 1\n",
    "\\end{pmatrix}\n",
    "\\begin{pmatrix}\n",
    "c t \\\\\n",
    "x \\\\\n",
    "y \\\\\n",
    "z\n",
    "\\end{pmatrix}\n",
    "$$\n",
    "\n",
    "Se multiplica $t'$ por $c$ para tener las mismas unidades."
   ]
  },
  {
   "cell_type": "markdown",
   "id": "e09a50b7",
   "metadata": {},
   "source": [
    "También se puede representar como:\n",
    "\n",
    "$$\n",
    "[x'^\\mu] = [\\Lambda^{\\mu}_{\\ \\ \\nu}] [x^\\nu]\n",
    "$$\n",
    "\n",
    "Donde:\n",
    "$\n",
    "[x'^\\mu] \\equiv \\begin{pmatrix}\n",
    "ct' \\\\\n",
    "x' \\\\\n",
    "y' \\\\\n",
    "z'\n",
    "\\end{pmatrix}\n",
    "$,\n",
    "$\n",
    "[x^\\nu] \\equiv \\begin{pmatrix}\n",
    "ct \\\\\n",
    "x \\\\\n",
    "y \\\\\n",
    "z\n",
    "\\end{pmatrix}\n",
    "$ y\n",
    "$\n",
    "[\\Lambda^{\\mu}_{\\ \\ \\nu}] \\equiv \\begin{pmatrix}\n",
    "\\gamma(V) & -\\gamma(V) V/c & 0 & 0 \\\\\n",
    "-\\gamma(V) V/c & \\gamma(V) & 0 & 0 \\\\\n",
    "0 & 0 & 1 & 0 \\\\\n",
    "0 & 0 & 0 & 1\n",
    "\\end{pmatrix}\n",
    "$.\n",
    "\n",
    "Además, los indices griegos indican que iteran entre 0 y 3, mientras que los índices latinos iteran entre 1 y 3.\n",
    "\n",
    "- $[x^\\mu]$ es también conocido como el **4-vector posición**."
   ]
  },
  {
   "cell_type": "markdown",
   "id": "1f0f5a06",
   "metadata": {},
   "source": [
    "Otra forma de representar la transformación es:\n",
    "$$\n",
    "x'^\\mu = \\sum_{\\nu=0}^{3}\\Lambda^{\\mu}_{\\ \\ \\nu} x^\\nu\n",
    "$$"
   ]
  },
  {
   "cell_type": "markdown",
   "id": "44d534fd",
   "metadata": {},
   "source": [
    "#### Transformaciones de Lorentz inversas"
   ]
  },
  {
   "cell_type": "markdown",
   "id": "2207b451",
   "metadata": {},
   "source": [
    "Es fácil ver que las transformaciones de Lorentz son invertibles, y la inversa de la transformación de Lorentz es la transformación de Lorentz para $-V$."
   ]
  },
  {
   "cell_type": "markdown",
   "id": "e8e12619",
   "metadata": {},
   "source": [
    "> **Transformaciones de Lorentz inversas**\n",
    "> - $t = \\gamma(-V) \\left( t' + \\frac{V}{c^2} x' \\right)$\n",
    "> - $x = \\gamma(-V) (x' + Vt')$\n",
    "> - $y = y'$\n",
    "> - $z = z'$"
   ]
  },
  {
   "cell_type": "markdown",
   "id": "7d7bf4b0",
   "metadata": {},
   "source": [
    "## 1.2.3 A derivation of the Lorenz transformation"
   ]
  },
  {
   "cell_type": "markdown",
   "id": "64f01ebf",
   "metadata": {},
   "source": [
    "### Deducción"
   ]
  },
  {
   "cell_type": "markdown",
   "id": "1b0d186b",
   "metadata": {},
   "source": [
    "Derivemos la transformación de Lorenz."
   ]
  },
  {
   "cell_type": "markdown",
   "id": "365b0e67",
   "metadata": {},
   "source": [
    "Supongamos que tenemos la configuración estándar e ignoremos los ejes $y$ y $z$. En este caso, asumamos que la transformación se desarrolla en términos de estas dos variables:"
   ]
  },
  {
   "cell_type": "markdown",
   "id": "64d805f0",
   "metadata": {},
   "source": [
    "$$\n",
    "\\begin{align*}\n",
    "x' &= a_0 + a_1 x + a_2 t  + a_3 x^2 + a_4 t^2 + \\cdots \\\\\n",
    "t' &= b_0 + b_1 x + b_2 t  + b_3 x^2 + b_4 t^2 + \\cdots\n",
    "\\end{align*}\n",
    "$$"
   ]
  },
  {
   "cell_type": "markdown",
   "id": "f3e75322",
   "metadata": {},
   "source": [
    "Si suponemos que en $t=0, t'=0$ y $x=0, x'=0$, entonces:"
   ]
  },
  {
   "cell_type": "markdown",
   "id": "a1088716",
   "metadata": {},
   "source": [
    "$$\n",
    "\\begin{align*}\n",
    "x'=0 &= a_0 + a_1 (0) + a_2 (0)  + a_3 (0)^2 + a_4 (0)^2 + \\cdots \\\\\n",
    "t'=0 &= b_0 + b_1 (0) + b_2 (0)  + b_3 (0)^2 + b_4 (0)^2 + \\cdots\n",
    "\\end{align*}\n",
    "$$"
   ]
  },
  {
   "cell_type": "markdown",
   "id": "ad81b745",
   "metadata": {},
   "source": [
    "Esto es: $a_0=0$ y $b_0=0$. De modo que la transformación se reduce a:\n",
    "$$\n",
    "\\begin{align*}\n",
    "x' &= a_1 x + a_2 t  + a_3 x^2 + a_4 t^2 + \\cdots \\\\\n",
    "t' &= b_1 x + b_2 t  + b_3 x^2 + b_4 t^2 + \\cdots\n",
    "\\end{align*}\n",
    "$$"
   ]
  },
  {
   "cell_type": "markdown",
   "id": "1f9de0eb",
   "metadata": {},
   "source": [
    "Ahora, si tomando en cuenta que las leyes de newton son invariantes bajo la transformación, podemos ver lo que pasa con la fuerza. "
   ]
  },
  {
   "cell_type": "markdown",
   "id": "eb66419d",
   "metadata": {},
   "source": [
    "Asumamos que un objeto se mueve con movimiento rectilíneo uniforme a lo largo del eje $x$ partiendo desde el origen. Entonces, la posición del objeto en el sistema de referencia $S$ es:\n",
    "\n",
    "$$\n",
    "x = v_0 t\n",
    "$$\n",
    "\n",
    "Esta solución indica que no hay fuerzas actuando sobre el objeto. Dado que las leyes de newton son invariantes bajo la transformación, entonces la fuerza en el sistema $S'$ también debe ser cero. Por lo tanto, la posición del objeto en el sistema de referencia $S'$ es de la forma:\n",
    "$$\n",
    "x' = v_0' t'\n",
    "$$\n",
    "\n",
    "Esto es:\n",
    "\n",
    "$$\n",
    "\\begin{align*}\n",
    "    x' &= a_1 (v_0 t) + a_2 t  + a_3 (v_0 t)^2 + a_4 t^2 + \\cdots \\\\\n",
    "    &= (a_1 v_0 + a_2) t + (a_3 v_0^2 + a_4) t^2 + \\cdots \\\\\n",
    "    t' &= b_1 (v_0 t) + b_2 t  + b_3 (v_0 t)^2 + b_4 t^2 + \\cdots \\\\\n",
    "    &= (b_1 v_0 + b_2) t + (b_3 v_0^2 + b_4) t^2 + \\cdots\n",
    "\\end{align*}\n",
    "$$\n",
    "\n",
    "Observe que si los términos de orden superior a 1 no tienen como coeficiente cero, entonces la transformación no es lineal. y no se cumple que $x' = v_0' t'$. Para poner un ejemplo, supongamos que $t' =  \\alpha t$, en tal caso:\n",
    "\n",
    "$$\n",
    "\\begin{align*}\n",
    "\\frac{dx'}{dt'} &= \\frac{1}{\\alpha} \\frac{dx'}{dt} \\\\\n",
    "\\alpha \\frac{dx'}{dt'} &= (a_1 v_0 + a_2) + 2(a_3 v_0^2 + a_4) t + \\cdots \\\\\n",
    "\\alpha^2 \\frac{d^2x'}{dt'^2} &= 2(a_3 v_0^2 + a_4) t \\neq 0\n",
    "\\end{align*}\n",
    "$$\n",
    "Esto es, la aceleración no es cero, o sea, que no se cumple la invariabilidad de las leyes de Newton. Por lo que la transformación tiene términos nulos para $O(x^2)$ y $O(t^2)$.\n",
    "\n",
    "De este modo, la transformación se reduce a:\n",
    "\n",
    "$$\n",
    "x' = a_1 x + a_2 t \\\\\n",
    "t' = b_1 x + b_2 t\n",
    "$$"
   ]
  },
  {
   "cell_type": "markdown",
   "id": "02cfd2d7",
   "metadata": {},
   "source": [
    "A continuación procederemos a determinar los coeficientes $a_1, a_2, b_1$ y $b_2$. "
   ]
  },
  {
   "cell_type": "markdown",
   "id": "5092aeaa",
   "metadata": {},
   "source": [
    "**Despeje de $a_2$:**\n",
    "\n",
    "Si suponemos que $x = Vt$ de modo que que $V$ es la velocidad del marco de referencia $S'$ respecto al marco de referencia $S$. Entonces, es claro que x'=0, puesto que por definición $S'$ se mueve con velocidad $V$ respecto a $S$. Por lo que:\n",
    "$$\n",
    "0 = a_1 (Vt) + a_2 t \\Rightarrow a_2 = -a_1 V\n",
    "$$\n",
    "\n",
    "**Despeje de $b_2$:**\n",
    "\n",
    "teniendo este resultado, y dividiendo las transformaciones:\n",
    "$$\n",
    "\\frac{x'}{t'} = \\frac{a_1 x - a_1 V t}{b_1 x + b_2 t}\n",
    "$$\n",
    "\n",
    "Ahora, si cambiamos de marco de referencia. Cuando $x=0$, $x' = -V t'$, por lo que:\n",
    "$$\n",
    "\\frac{-Vt'}{t'} = \\frac{-V(a_1t)}{(b_2 t)}\n",
    "$$\n",
    "se concluye que  $a_1 = b_2$.\n",
    "\n",
    "De este modo, la transformación se reduce a:\n",
    "$$\n",
    "\\begin{align*}\n",
    "    x' &= a_1 x - a_1 V t \\\\\n",
    "    t' &= b_1 x + a_1 t \\\\\n",
    "\\end{align*}\n",
    "$$"
   ]
  },
  {
   "cell_type": "markdown",
   "id": "b93f956c",
   "metadata": {},
   "source": [
    "**Despeje de $b_1$:**\n",
    "\n",
    "\n",
    "Sabemos que la velocidad de la luz debe ser la misma en ambos sistemas de referencia. Por lo que si $x = ct$ y $x' = ct'$, luego, $x/t = x'/t' = c$. Por lo que:\n",
    "$$\n",
    "\\begin{align*}\n",
    "\\frac{x'}{t'} &= \\frac{t(a_1 \\frac{x}{t} - a_1 V)}{t(b_1 \\frac{x}{t} + a_1)} \\\\\n",
    "&= \\frac{a_1 \\frac{x}{t} - a_1 V}{b_1 \\frac{x}{t} + a_1} \\\\\n",
    "c &= \\frac{a_1 c - a_1 V}{b_1 c + a_1} \\\\\n",
    "\\end{align*}\n",
    "$$\n",
    "\n",
    "Si despejamos $b_1$:\n",
    "$$\n",
    "\\begin{align*}\n",
    "c (b_1 c + a_1) &= a_1 c - a_1 V \\\\\n",
    "b_1 c + a_1  &= a_1 - a_1 V/c \\\\\n",
    "b_1 c &= - a_1 V/c \\\\\n",
    "b_1 &= - \\frac{a_1 V}{c^2}\n",
    "\\end{align*}\n",
    "$$\n",
    "\n",
    "por lo que la transformación se reduce a:\n",
    "$$\n",
    "\\begin{align*}\n",
    "    x' &= a_1(x - V t) \\\\\n",
    "    t' &= a_1(- \\frac{V}{c^2} x + t) \\\\\n",
    "\\end{align*}\n",
    "$$"
   ]
  },
  {
   "cell_type": "markdown",
   "id": "79165d95",
   "metadata": {},
   "source": [
    "**Hallando $a_1$:**\n",
    "\n",
    "Está claro que la transformación inversa es:\n",
    "$$\n",
    "\\begin{align*}\n",
    "    x &= a_1(x' + V t') \\\\\n",
    "    t &= a_1(\\frac{V}{c^2} x' + t') \\\\\n",
    "\\end{align*}\n",
    "$$\n",
    "Por lo que:\n",
    "$$\n",
    "\\begin{align*}\n",
    "x' &= a_1(x - V t) \\\\\n",
    "&= a_1(\\left[a_1(x' + V t')\\right] - V \\left[a_1(\\frac{V}{c^2} x' + t')\\right]) \\\\\n",
    "&= a_1^2\\left[x' + V t' - \\frac{V^2}{c^2} x' - V t'\\right] \\\\\n",
    "&= a_1^2\\left[1 - \\frac{V^2}{c^2}\\right] x' \\\\\n",
    "\\end{align*}\n",
    "$$\n",
    "\n",
    "De donde llegamos a la conclusión de que:\n",
    "$$\n",
    "a_1 = \\frac{1}{\\sqrt{1 - \\frac{V^2}{c^2}}}\n",
    "$$"
   ]
  },
  {
   "cell_type": "markdown",
   "id": "feccaac5",
   "metadata": {},
   "source": [
    "Este $a_1$ lo llamaremos el **factor de Lorenz** $\\gamma(V)$ "
   ]
  },
  {
   "cell_type": "markdown",
   "id": "aadad3d3",
   "metadata": {},
   "source": [
    "### Resultado"
   ]
  },
  {
   "cell_type": "markdown",
   "id": "41762162",
   "metadata": {},
   "source": [
    "Así, el resultado final es:\n",
    "$$\n",
    "\\begin{align*}\n",
    "    x' &= \\gamma(V)(x - V t) \\\\\n",
    "    t' &= \\gamma(V)(- \\frac{V}{c^2} x + t) \\\\\n",
    "\\end{align*}\n",
    "$$\n",
    "- $\\gamma(V) = \\frac{1}{\\sqrt{1 - \\frac{V^2}{c^2}}}$ es el factor de Lorenz.\n",
    "- $V$ es la velocidad del sistema de referencia $S'$ respecto al sistema de referencia $S$.\n",
    "- $c$ es la velocidad de la luz."
   ]
  }
 ],
 "metadata": {
  "kernelspec": {
   "display_name": ".venv",
   "language": "python",
   "name": "python3"
  },
  "language_info": {
   "codemirror_mode": {
    "name": "ipython",
    "version": 3
   },
   "file_extension": ".py",
   "mimetype": "text/x-python",
   "name": "python",
   "nbconvert_exporter": "python",
   "pygments_lexer": "ipython3",
   "version": "3.11.2"
  }
 },
 "nbformat": 4,
 "nbformat_minor": 5
}
