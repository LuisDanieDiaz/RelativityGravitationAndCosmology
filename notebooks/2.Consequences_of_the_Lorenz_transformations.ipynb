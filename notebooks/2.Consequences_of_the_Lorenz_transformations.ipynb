{
 "cells": [
  {
   "cell_type": "markdown",
   "id": "a6b45aca",
   "metadata": {},
   "source": [
    "Puedes abrir este notebook en Google Colab haciendo clic en el siguiente botón:\n",
    "\n",
    "<a target=\"_blank\" href=\"https://colab.research.google.com/github/LuisDanielDiaz/RelativityGravitationAndCosmology/blob/main/notebooks/2.Consequences_of_the_Lorenz_transformations.ipynb\">\n",
    "  <img src=\"https://colab.research.google.com/assets/colab-badge.svg\" alt=\"Open in Colab\"/>\n",
    "</a>"
   ]
  },
  {
   "cell_type": "markdown",
   "id": "fd97620f",
   "metadata": {},
   "source": [
    "Instalación de librerías necesarias"
   ]
  },
  {
   "cell_type": "code",
   "execution_count": null,
   "id": "c972d1b1",
   "metadata": {},
   "outputs": [],
   "source": [
    "import sys\n",
    "import os\n",
    "\n",
    "# Solo para trabajo en local\n",
    "# %load_ext autoreload\n",
    "# %autoreload 2\n",
    "\n",
    "if 'google.colab' in sys.modules:\n",
    "    # instalamos requirements.txt\n",
    "    !pip install -q -r https://raw.githubusercontent.com/LuisDanieDiaz/RelativityGravitationAndCosmology/main/requirements.txt\n",
    "    # Estás en Google Colab\n",
    "    !pip install -q git+https://github.com/LuisDanieDiaz/RelativityGravitationAndCosmology.git\n",
    "\n",
    "else:\n",
    "    # Estás en local\n",
    "    # Obtén el directorio padre del directorio actual\n",
    "    parent_dir = os.path.dirname(os.getcwd())\n",
    "\n",
    "    # Añade la ruta al directorio donde está tu paquete\n",
    "    if parent_dir not in sys.path:\n",
    "        sys.path.insert(0, parent_dir)\n",
    "    \n",
    "    # O directamente al directorio específico si conoces la estructura\n",
    "    my_relativity_path = os.path.join(parent_dir, 'my_relativity')\n",
    "    if os.path.exists(my_relativity_path) and my_relativity_path not in sys.path:\n",
    "        sys.path.insert(0, my_relativity_path)\n",
    "\n",
    "# Ahora intenta importar\n",
    "try:\n",
    "    import my_relativity\n",
    "    print(\"Importación exitosa!\")\n",
    "except ImportError as e:\n",
    "    print(f\"Error al importar: {e}\")\n",
    "    print(f\"Rutas actuales en sys.path: {sys.path}\")"
   ]
  },
  {
   "cell_type": "code",
   "execution_count": 3,
   "id": "8ce9d62b",
   "metadata": {},
   "outputs": [
    {
     "name": "stdout",
     "output_type": "stream",
     "text": [
      "Collecting bqplot\n",
      "  Downloading bqplot-0.12.44-py2.py3-none-any.whl.metadata (6.4 kB)\n",
      "Requirement already satisfied: ipywidgets<9,>=7.5.0 in /home/lldddv/Documentos/Materias/Semestre_7/Relatividad/RelativityGravitationAndCosmology/.venv/lib/python3.11/site-packages (from bqplot) (8.1.6)\n",
      "Requirement already satisfied: traitlets>=4.3.0 in /home/lldddv/Documentos/Materias/Semestre_7/Relatividad/RelativityGravitationAndCosmology/.venv/lib/python3.11/site-packages (from bqplot) (5.14.3)\n",
      "Collecting traittypes>=0.0.6 (from bqplot)\n",
      "  Downloading traittypes-0.2.1-py2.py3-none-any.whl.metadata (1.0 kB)\n",
      "Requirement already satisfied: numpy>=1.10.4 in /home/lldddv/Documentos/Materias/Semestre_7/Relatividad/RelativityGravitationAndCosmology/.venv/lib/python3.11/site-packages (from bqplot) (2.0.0)\n",
      "Requirement already satisfied: pandas<3.0.0,>=1.0.0 in /home/lldddv/Documentos/Materias/Semestre_7/Relatividad/RelativityGravitationAndCosmology/.venv/lib/python3.11/site-packages (from bqplot) (1.5.3)\n",
      "Requirement already satisfied: comm>=0.1.3 in /home/lldddv/Documentos/Materias/Semestre_7/Relatividad/RelativityGravitationAndCosmology/.venv/lib/python3.11/site-packages (from ipywidgets<9,>=7.5.0->bqplot) (0.2.2)\n",
      "Requirement already satisfied: ipython>=6.1.0 in /home/lldddv/Documentos/Materias/Semestre_7/Relatividad/RelativityGravitationAndCosmology/.venv/lib/python3.11/site-packages (from ipywidgets<9,>=7.5.0->bqplot) (9.1.0)\n",
      "Requirement already satisfied: widgetsnbextension~=4.0.14 in /home/lldddv/Documentos/Materias/Semestre_7/Relatividad/RelativityGravitationAndCosmology/.venv/lib/python3.11/site-packages (from ipywidgets<9,>=7.5.0->bqplot) (4.0.14)\n",
      "Requirement already satisfied: jupyterlab_widgets~=3.0.14 in /home/lldddv/Documentos/Materias/Semestre_7/Relatividad/RelativityGravitationAndCosmology/.venv/lib/python3.11/site-packages (from ipywidgets<9,>=7.5.0->bqplot) (3.0.14)\n",
      "Requirement already satisfied: python-dateutil>=2.8.1 in /home/lldddv/Documentos/Materias/Semestre_7/Relatividad/RelativityGravitationAndCosmology/.venv/lib/python3.11/site-packages (from pandas<3.0.0,>=1.0.0->bqplot) (2.9.0.post0)\n",
      "Requirement already satisfied: pytz>=2020.1 in /home/lldddv/Documentos/Materias/Semestre_7/Relatividad/RelativityGravitationAndCosmology/.venv/lib/python3.11/site-packages (from pandas<3.0.0,>=1.0.0->bqplot) (2025.2)\n",
      "Requirement already satisfied: decorator in /home/lldddv/Documentos/Materias/Semestre_7/Relatividad/RelativityGravitationAndCosmology/.venv/lib/python3.11/site-packages (from ipython>=6.1.0->ipywidgets<9,>=7.5.0->bqplot) (5.2.1)\n",
      "Requirement already satisfied: ipython-pygments-lexers in /home/lldddv/Documentos/Materias/Semestre_7/Relatividad/RelativityGravitationAndCosmology/.venv/lib/python3.11/site-packages (from ipython>=6.1.0->ipywidgets<9,>=7.5.0->bqplot) (1.1.1)\n",
      "Requirement already satisfied: jedi>=0.16 in /home/lldddv/Documentos/Materias/Semestre_7/Relatividad/RelativityGravitationAndCosmology/.venv/lib/python3.11/site-packages (from ipython>=6.1.0->ipywidgets<9,>=7.5.0->bqplot) (0.19.2)\n",
      "Requirement already satisfied: matplotlib-inline in /home/lldddv/Documentos/Materias/Semestre_7/Relatividad/RelativityGravitationAndCosmology/.venv/lib/python3.11/site-packages (from ipython>=6.1.0->ipywidgets<9,>=7.5.0->bqplot) (0.1.7)\n",
      "Requirement already satisfied: pexpect>4.3 in /home/lldddv/Documentos/Materias/Semestre_7/Relatividad/RelativityGravitationAndCosmology/.venv/lib/python3.11/site-packages (from ipython>=6.1.0->ipywidgets<9,>=7.5.0->bqplot) (4.9.0)\n",
      "Requirement already satisfied: prompt_toolkit<3.1.0,>=3.0.41 in /home/lldddv/Documentos/Materias/Semestre_7/Relatividad/RelativityGravitationAndCosmology/.venv/lib/python3.11/site-packages (from ipython>=6.1.0->ipywidgets<9,>=7.5.0->bqplot) (3.0.50)\n",
      "Requirement already satisfied: pygments>=2.4.0 in /home/lldddv/Documentos/Materias/Semestre_7/Relatividad/RelativityGravitationAndCosmology/.venv/lib/python3.11/site-packages (from ipython>=6.1.0->ipywidgets<9,>=7.5.0->bqplot) (2.19.1)\n",
      "Requirement already satisfied: stack_data in /home/lldddv/Documentos/Materias/Semestre_7/Relatividad/RelativityGravitationAndCosmology/.venv/lib/python3.11/site-packages (from ipython>=6.1.0->ipywidgets<9,>=7.5.0->bqplot) (0.6.3)\n",
      "Requirement already satisfied: typing_extensions>=4.6 in /home/lldddv/Documentos/Materias/Semestre_7/Relatividad/RelativityGravitationAndCosmology/.venv/lib/python3.11/site-packages (from ipython>=6.1.0->ipywidgets<9,>=7.5.0->bqplot) (4.13.1)\n",
      "Requirement already satisfied: six>=1.5 in /home/lldddv/Documentos/Materias/Semestre_7/Relatividad/RelativityGravitationAndCosmology/.venv/lib/python3.11/site-packages (from python-dateutil>=2.8.1->pandas<3.0.0,>=1.0.0->bqplot) (1.17.0)\n",
      "Requirement already satisfied: parso<0.9.0,>=0.8.4 in /home/lldddv/Documentos/Materias/Semestre_7/Relatividad/RelativityGravitationAndCosmology/.venv/lib/python3.11/site-packages (from jedi>=0.16->ipython>=6.1.0->ipywidgets<9,>=7.5.0->bqplot) (0.8.4)\n",
      "Requirement already satisfied: ptyprocess>=0.5 in /home/lldddv/Documentos/Materias/Semestre_7/Relatividad/RelativityGravitationAndCosmology/.venv/lib/python3.11/site-packages (from pexpect>4.3->ipython>=6.1.0->ipywidgets<9,>=7.5.0->bqplot) (0.7.0)\n",
      "Requirement already satisfied: wcwidth in /home/lldddv/Documentos/Materias/Semestre_7/Relatividad/RelativityGravitationAndCosmology/.venv/lib/python3.11/site-packages (from prompt_toolkit<3.1.0,>=3.0.41->ipython>=6.1.0->ipywidgets<9,>=7.5.0->bqplot) (0.2.13)\n",
      "Requirement already satisfied: executing>=1.2.0 in /home/lldddv/Documentos/Materias/Semestre_7/Relatividad/RelativityGravitationAndCosmology/.venv/lib/python3.11/site-packages (from stack_data->ipython>=6.1.0->ipywidgets<9,>=7.5.0->bqplot) (2.2.0)\n",
      "Requirement already satisfied: asttokens>=2.1.0 in /home/lldddv/Documentos/Materias/Semestre_7/Relatividad/RelativityGravitationAndCosmology/.venv/lib/python3.11/site-packages (from stack_data->ipython>=6.1.0->ipywidgets<9,>=7.5.0->bqplot) (3.0.0)\n",
      "Requirement already satisfied: pure-eval in /home/lldddv/Documentos/Materias/Semestre_7/Relatividad/RelativityGravitationAndCosmology/.venv/lib/python3.11/site-packages (from stack_data->ipython>=6.1.0->ipywidgets<9,>=7.5.0->bqplot) (0.2.3)\n",
      "Downloading bqplot-0.12.44-py2.py3-none-any.whl (1.2 MB)\n",
      "\u001b[2K   \u001b[90m━━━━━━━━━━━━━━━━━━━━━━━━━━━━━━━━━━━━━━━━\u001b[0m \u001b[32m1.2/1.2 MB\u001b[0m \u001b[31m7.9 MB/s\u001b[0m eta \u001b[36m0:00:00\u001b[0ma \u001b[36m0:00:01\u001b[0m\n",
      "\u001b[?25hDownloading traittypes-0.2.1-py2.py3-none-any.whl (8.6 kB)\n",
      "Installing collected packages: traittypes, bqplot\n",
      "Successfully installed bqplot-0.12.44 traittypes-0.2.1\n"
     ]
    }
   ],
   "source": [
    "!pip install bqplot"
   ]
  },
  {
   "cell_type": "code",
   "execution_count": 7,
   "id": "56e645ce",
   "metadata": {},
   "outputs": [
    {
     "ename": "ValueError",
     "evalue": "numpy.dtype size changed, may indicate binary incompatibility. Expected 96 from C header, got 88 from PyObject",
     "output_type": "error",
     "traceback": [
      "\u001b[31m---------------------------------------------------------------------------\u001b[39m",
      "\u001b[31mValueError\u001b[39m                                Traceback (most recent call last)",
      "\u001b[36mCell\u001b[39m\u001b[36m \u001b[39m\u001b[32mIn[7]\u001b[39m\u001b[32m, line 1\u001b[39m\n\u001b[32m----> \u001b[39m\u001b[32m1\u001b[39m \u001b[38;5;28;01mimport\u001b[39;00m\u001b[38;5;250m \u001b[39m\u001b[34;01mbqplot\u001b[39;00m\u001b[38;5;250m \u001b[39m\u001b[38;5;28;01mas\u001b[39;00m\u001b[38;5;250m \u001b[39m\u001b[34;01mbqp\u001b[39;00m\n\u001b[32m      2\u001b[39m \u001b[38;5;28;01mimport\u001b[39;00m\u001b[38;5;250m \u001b[39m\u001b[34;01mipywidgets\u001b[39;00m\u001b[38;5;250m \u001b[39m\u001b[38;5;28;01mas\u001b[39;00m\u001b[38;5;250m \u001b[39m\u001b[34;01mwidgets\u001b[39;00m\n\u001b[32m      4\u001b[39m \u001b[38;5;66;03m# Posición inicial\u001b[39;00m\n",
      "\u001b[36mFile \u001b[39m\u001b[32m~/Documentos/Materias/Semestre_7/Relatividad/RelativityGravitationAndCosmology/.venv/lib/python3.11/site-packages/bqplot/__init__.py:64\u001b[39m\n\u001b[32m      1\u001b[39m \u001b[38;5;66;03m# Copyright 2015 Bloomberg Finance L.P.\u001b[39;00m\n\u001b[32m      2\u001b[39m \u001b[38;5;66;03m#\u001b[39;00m\n\u001b[32m      3\u001b[39m \u001b[38;5;66;03m# Licensed under the Apache License, Version 2.0 (the \"License\");\u001b[39;00m\n\u001b[32m   (...)\u001b[39m\u001b[32m     12\u001b[39m \u001b[38;5;66;03m# See the License for the specific language governing permissions and\u001b[39;00m\n\u001b[32m     13\u001b[39m \u001b[38;5;66;03m# limitations under the License.\u001b[39;00m\n\u001b[32m     15\u001b[39m \u001b[33mr\u001b[39m\u001b[33;03m\"\"\"\u001b[39;00m\n\u001b[32m     16\u001b[39m \n\u001b[32m     17\u001b[39m \u001b[33;03m==============\u001b[39;00m\n\u001b[32m   (...)\u001b[39m\u001b[32m     61\u001b[39m \n\u001b[32m     62\u001b[39m \u001b[33;03m\"\"\"\u001b[39;00m\n\u001b[32m---> \u001b[39m\u001b[32m64\u001b[39m \u001b[38;5;28;01mfrom\u001b[39;00m\u001b[38;5;250m \u001b[39m\u001b[34;01m.\u001b[39;00m\u001b[34;01mfigure\u001b[39;00m\u001b[38;5;250m \u001b[39m\u001b[38;5;28;01mimport\u001b[39;00m *  \u001b[38;5;66;03m# noqa\u001b[39;00m\n\u001b[32m     65\u001b[39m \u001b[38;5;28;01mfrom\u001b[39;00m\u001b[38;5;250m \u001b[39m\u001b[34;01m.\u001b[39;00m\u001b[34;01maxes\u001b[39;00m\u001b[38;5;250m \u001b[39m\u001b[38;5;28;01mimport\u001b[39;00m *  \u001b[38;5;66;03m# noqa\u001b[39;00m\n\u001b[32m     66\u001b[39m \u001b[38;5;28;01mfrom\u001b[39;00m\u001b[38;5;250m \u001b[39m\u001b[34;01m.\u001b[39;00m\u001b[34;01mmarks\u001b[39;00m\u001b[38;5;250m \u001b[39m\u001b[38;5;28;01mimport\u001b[39;00m *  \u001b[38;5;66;03m# noqa\u001b[39;00m\n",
      "\u001b[36mFile \u001b[39m\u001b[32m~/Documentos/Materias/Semestre_7/Relatividad/RelativityGravitationAndCosmology/.venv/lib/python3.11/site-packages/bqplot/figure.py:35\u001b[39m\n\u001b[32m     29\u001b[39m \u001b[38;5;28;01mfrom\u001b[39;00m\u001b[38;5;250m \u001b[39m\u001b[34;01mtraitlets\u001b[39;00m\u001b[38;5;250m \u001b[39m\u001b[38;5;28;01mimport\u001b[39;00m (\n\u001b[32m     30\u001b[39m     Unicode, Instance, List, Dict, Enum, Float, Int, TraitError, default,\n\u001b[32m     31\u001b[39m     validate\n\u001b[32m     32\u001b[39m )\n\u001b[32m     33\u001b[39m \u001b[38;5;28;01mfrom\u001b[39;00m\u001b[38;5;250m \u001b[39m\u001b[34;01mipywidgets\u001b[39;00m\u001b[38;5;250m \u001b[39m\u001b[38;5;28;01mimport\u001b[39;00m DOMWidget, register, widget_serialization\n\u001b[32m---> \u001b[39m\u001b[32m35\u001b[39m \u001b[38;5;28;01mfrom\u001b[39;00m\u001b[38;5;250m \u001b[39m\u001b[34;01m.\u001b[39;00m\u001b[34;01mscales\u001b[39;00m\u001b[38;5;250m \u001b[39m\u001b[38;5;28;01mimport\u001b[39;00m Scale, LinearScale\n\u001b[32m     36\u001b[39m \u001b[38;5;28;01mfrom\u001b[39;00m\u001b[38;5;250m \u001b[39m\u001b[34;01m.\u001b[39;00m\u001b[34;01minteracts\u001b[39;00m\u001b[38;5;250m \u001b[39m\u001b[38;5;28;01mimport\u001b[39;00m Interaction\n\u001b[32m     37\u001b[39m \u001b[38;5;28;01mfrom\u001b[39;00m\u001b[38;5;250m \u001b[39m\u001b[34;01m.\u001b[39;00m\u001b[34;01mmarks\u001b[39;00m\u001b[38;5;250m \u001b[39m\u001b[38;5;28;01mimport\u001b[39;00m Mark\n",
      "\u001b[36mFile \u001b[39m\u001b[32m~/Documentos/Materias/Semestre_7/Relatividad/RelativityGravitationAndCosmology/.venv/lib/python3.11/site-packages/bqplot/scales.py:45\u001b[39m\n\u001b[32m     42\u001b[39m \u001b[38;5;28;01mfrom\u001b[39;00m\u001b[38;5;250m \u001b[39m\u001b[34;01mtraitlets\u001b[39;00m\u001b[38;5;250m \u001b[39m\u001b[38;5;28;01mimport\u001b[39;00m Unicode, List, Enum, Float, Bool, Type, Tuple\n\u001b[32m     44\u001b[39m \u001b[38;5;28;01mimport\u001b[39;00m\u001b[38;5;250m \u001b[39m\u001b[34;01mnumpy\u001b[39;00m\u001b[38;5;250m \u001b[39m\u001b[38;5;28;01mas\u001b[39;00m\u001b[38;5;250m \u001b[39m\u001b[34;01mnp\u001b[39;00m\n\u001b[32m---> \u001b[39m\u001b[32m45\u001b[39m \u001b[38;5;28;01mfrom\u001b[39;00m\u001b[38;5;250m \u001b[39m\u001b[34;01m.\u001b[39;00m\u001b[34;01mtraits\u001b[39;00m\u001b[38;5;250m \u001b[39m\u001b[38;5;28;01mimport\u001b[39;00m Date\n\u001b[32m     46\u001b[39m \u001b[38;5;28;01mfrom\u001b[39;00m\u001b[38;5;250m \u001b[39m\u001b[34;01m.\u001b[39;00m\u001b[34;01m_version\u001b[39;00m\u001b[38;5;250m \u001b[39m\u001b[38;5;28;01mimport\u001b[39;00m __frontend_version__\n\u001b[32m     49\u001b[39m \u001b[38;5;28;01mdef\u001b[39;00m\u001b[38;5;250m \u001b[39m\u001b[34mregister_scale\u001b[39m(key=\u001b[38;5;28;01mNone\u001b[39;00m):\n",
      "\u001b[36mFile \u001b[39m\u001b[32m~/Documentos/Materias/Semestre_7/Relatividad/RelativityGravitationAndCosmology/.venv/lib/python3.11/site-packages/bqplot/traits.py:32\u001b[39m\n\u001b[32m     29\u001b[39m \u001b[38;5;28;01mfrom\u001b[39;00m\u001b[38;5;250m \u001b[39m\u001b[34;01mtraitlets\u001b[39;00m\u001b[38;5;250m \u001b[39m\u001b[38;5;28;01mimport\u001b[39;00m TraitError, TraitType\n\u001b[32m     31\u001b[39m \u001b[38;5;28;01mimport\u001b[39;00m\u001b[38;5;250m \u001b[39m\u001b[34;01mnumpy\u001b[39;00m\u001b[38;5;250m \u001b[39m\u001b[38;5;28;01mas\u001b[39;00m\u001b[38;5;250m \u001b[39m\u001b[34;01mnp\u001b[39;00m\n\u001b[32m---> \u001b[39m\u001b[32m32\u001b[39m \u001b[38;5;28;01mimport\u001b[39;00m\u001b[38;5;250m \u001b[39m\u001b[34;01mpandas\u001b[39;00m\u001b[38;5;250m \u001b[39m\u001b[38;5;28;01mas\u001b[39;00m\u001b[38;5;250m \u001b[39m\u001b[34;01mpd\u001b[39;00m\n\u001b[32m     33\u001b[39m \u001b[38;5;28;01mimport\u001b[39;00m\u001b[38;5;250m \u001b[39m\u001b[34;01mwarnings\u001b[39;00m\n\u001b[32m     34\u001b[39m \u001b[38;5;28;01mimport\u001b[39;00m\u001b[38;5;250m \u001b[39m\u001b[34;01mdatetime\u001b[39;00m\u001b[38;5;250m \u001b[39m\u001b[38;5;28;01mas\u001b[39;00m\u001b[38;5;250m \u001b[39m\u001b[34;01mdt\u001b[39;00m\n",
      "\u001b[36mFile \u001b[39m\u001b[32m~/Documentos/Materias/Semestre_7/Relatividad/RelativityGravitationAndCosmology/.venv/lib/python3.11/site-packages/pandas/__init__.py:22\u001b[39m\n\u001b[32m     19\u001b[39m \u001b[38;5;28;01mdel\u001b[39;00m _hard_dependencies, _dependency, _missing_dependencies\n\u001b[32m     21\u001b[39m \u001b[38;5;66;03m# numpy compat\u001b[39;00m\n\u001b[32m---> \u001b[39m\u001b[32m22\u001b[39m \u001b[38;5;28;01mfrom\u001b[39;00m\u001b[38;5;250m \u001b[39m\u001b[34;01mpandas\u001b[39;00m\u001b[34;01m.\u001b[39;00m\u001b[34;01mcompat\u001b[39;00m\u001b[38;5;250m \u001b[39m\u001b[38;5;28;01mimport\u001b[39;00m is_numpy_dev \u001b[38;5;28;01mas\u001b[39;00m _is_numpy_dev  \u001b[38;5;66;03m# pyright: ignore # noqa:F401\u001b[39;00m\n\u001b[32m     24\u001b[39m \u001b[38;5;28;01mtry\u001b[39;00m:\n\u001b[32m     25\u001b[39m     \u001b[38;5;28;01mfrom\u001b[39;00m\u001b[38;5;250m \u001b[39m\u001b[34;01mpandas\u001b[39;00m\u001b[34;01m.\u001b[39;00m\u001b[34;01m_libs\u001b[39;00m\u001b[38;5;250m \u001b[39m\u001b[38;5;28;01mimport\u001b[39;00m hashtable \u001b[38;5;28;01mas\u001b[39;00m _hashtable, lib \u001b[38;5;28;01mas\u001b[39;00m _lib, tslib \u001b[38;5;28;01mas\u001b[39;00m _tslib\n",
      "\u001b[36mFile \u001b[39m\u001b[32m~/Documentos/Materias/Semestre_7/Relatividad/RelativityGravitationAndCosmology/.venv/lib/python3.11/site-packages/pandas/compat/__init__.py:18\u001b[39m\n\u001b[32m     15\u001b[39m \u001b[38;5;28;01mfrom\u001b[39;00m\u001b[38;5;250m \u001b[39m\u001b[34;01mtyping\u001b[39;00m\u001b[38;5;250m \u001b[39m\u001b[38;5;28;01mimport\u001b[39;00m TYPE_CHECKING\n\u001b[32m     17\u001b[39m \u001b[38;5;28;01mfrom\u001b[39;00m\u001b[38;5;250m \u001b[39m\u001b[34;01mpandas\u001b[39;00m\u001b[34;01m.\u001b[39;00m\u001b[34;01m_typing\u001b[39;00m\u001b[38;5;250m \u001b[39m\u001b[38;5;28;01mimport\u001b[39;00m F\n\u001b[32m---> \u001b[39m\u001b[32m18\u001b[39m \u001b[38;5;28;01mfrom\u001b[39;00m\u001b[38;5;250m \u001b[39m\u001b[34;01mpandas\u001b[39;00m\u001b[34;01m.\u001b[39;00m\u001b[34;01mcompat\u001b[39;00m\u001b[34;01m.\u001b[39;00m\u001b[34;01mnumpy\u001b[39;00m\u001b[38;5;250m \u001b[39m\u001b[38;5;28;01mimport\u001b[39;00m (\n\u001b[32m     19\u001b[39m     is_numpy_dev,\n\u001b[32m     20\u001b[39m     np_version_under1p21,\n\u001b[32m     21\u001b[39m )\n\u001b[32m     22\u001b[39m \u001b[38;5;28;01mfrom\u001b[39;00m\u001b[38;5;250m \u001b[39m\u001b[34;01mpandas\u001b[39;00m\u001b[34;01m.\u001b[39;00m\u001b[34;01mcompat\u001b[39;00m\u001b[34;01m.\u001b[39;00m\u001b[34;01mpyarrow\u001b[39;00m\u001b[38;5;250m \u001b[39m\u001b[38;5;28;01mimport\u001b[39;00m (\n\u001b[32m     23\u001b[39m     pa_version_under1p01,\n\u001b[32m     24\u001b[39m     pa_version_under2p0,\n\u001b[32m   (...)\u001b[39m\u001b[32m     31\u001b[39m     pa_version_under9p0,\n\u001b[32m     32\u001b[39m )\n\u001b[32m     34\u001b[39m \u001b[38;5;28;01mif\u001b[39;00m TYPE_CHECKING:\n",
      "\u001b[36mFile \u001b[39m\u001b[32m~/Documentos/Materias/Semestre_7/Relatividad/RelativityGravitationAndCosmology/.venv/lib/python3.11/site-packages/pandas/compat/numpy/__init__.py:4\u001b[39m\n\u001b[32m      1\u001b[39m \u001b[33;03m\"\"\" support numpy compatibility across versions \"\"\"\u001b[39;00m\n\u001b[32m      2\u001b[39m \u001b[38;5;28;01mimport\u001b[39;00m\u001b[38;5;250m \u001b[39m\u001b[34;01mnumpy\u001b[39;00m\u001b[38;5;250m \u001b[39m\u001b[38;5;28;01mas\u001b[39;00m\u001b[38;5;250m \u001b[39m\u001b[34;01mnp\u001b[39;00m\n\u001b[32m----> \u001b[39m\u001b[32m4\u001b[39m \u001b[38;5;28;01mfrom\u001b[39;00m\u001b[38;5;250m \u001b[39m\u001b[34;01mpandas\u001b[39;00m\u001b[34;01m.\u001b[39;00m\u001b[34;01mutil\u001b[39;00m\u001b[34;01m.\u001b[39;00m\u001b[34;01mversion\u001b[39;00m\u001b[38;5;250m \u001b[39m\u001b[38;5;28;01mimport\u001b[39;00m Version\n\u001b[32m      6\u001b[39m \u001b[38;5;66;03m# numpy versioning\u001b[39;00m\n\u001b[32m      7\u001b[39m _np_version = np.__version__\n",
      "\u001b[36mFile \u001b[39m\u001b[32m~/Documentos/Materias/Semestre_7/Relatividad/RelativityGravitationAndCosmology/.venv/lib/python3.11/site-packages/pandas/util/__init__.py:2\u001b[39m\n\u001b[32m      1\u001b[39m \u001b[38;5;66;03m# pyright: reportUnusedImport = false\u001b[39;00m\n\u001b[32m----> \u001b[39m\u001b[32m2\u001b[39m \u001b[38;5;28;01mfrom\u001b[39;00m\u001b[38;5;250m \u001b[39m\u001b[34;01mpandas\u001b[39;00m\u001b[34;01m.\u001b[39;00m\u001b[34;01mutil\u001b[39;00m\u001b[34;01m.\u001b[39;00m\u001b[34;01m_decorators\u001b[39;00m\u001b[38;5;250m \u001b[39m\u001b[38;5;28;01mimport\u001b[39;00m (  \u001b[38;5;66;03m# noqa:F401\u001b[39;00m\n\u001b[32m      3\u001b[39m     Appender,\n\u001b[32m      4\u001b[39m     Substitution,\n\u001b[32m      5\u001b[39m     cache_readonly,\n\u001b[32m      6\u001b[39m )\n\u001b[32m      8\u001b[39m \u001b[38;5;28;01mfrom\u001b[39;00m\u001b[38;5;250m \u001b[39m\u001b[34;01mpandas\u001b[39;00m\u001b[34;01m.\u001b[39;00m\u001b[34;01mcore\u001b[39;00m\u001b[34;01m.\u001b[39;00m\u001b[34;01mutil\u001b[39;00m\u001b[34;01m.\u001b[39;00m\u001b[34;01mhashing\u001b[39;00m\u001b[38;5;250m \u001b[39m\u001b[38;5;28;01mimport\u001b[39;00m (  \u001b[38;5;66;03m# noqa:F401\u001b[39;00m\n\u001b[32m      9\u001b[39m     hash_array,\n\u001b[32m     10\u001b[39m     hash_pandas_object,\n\u001b[32m     11\u001b[39m )\n\u001b[32m     14\u001b[39m \u001b[38;5;28;01mdef\u001b[39;00m\u001b[38;5;250m \u001b[39m\u001b[34m__getattr__\u001b[39m(name):\n",
      "\u001b[36mFile \u001b[39m\u001b[32m~/Documentos/Materias/Semestre_7/Relatividad/RelativityGravitationAndCosmology/.venv/lib/python3.11/site-packages/pandas/util/_decorators.py:14\u001b[39m\n\u001b[32m      6\u001b[39m \u001b[38;5;28;01mfrom\u001b[39;00m\u001b[38;5;250m \u001b[39m\u001b[34;01mtyping\u001b[39;00m\u001b[38;5;250m \u001b[39m\u001b[38;5;28;01mimport\u001b[39;00m (\n\u001b[32m      7\u001b[39m     Any,\n\u001b[32m      8\u001b[39m     Callable,\n\u001b[32m      9\u001b[39m     Mapping,\n\u001b[32m     10\u001b[39m     cast,\n\u001b[32m     11\u001b[39m )\n\u001b[32m     12\u001b[39m \u001b[38;5;28;01mimport\u001b[39;00m\u001b[38;5;250m \u001b[39m\u001b[34;01mwarnings\u001b[39;00m\n\u001b[32m---> \u001b[39m\u001b[32m14\u001b[39m \u001b[38;5;28;01mfrom\u001b[39;00m\u001b[38;5;250m \u001b[39m\u001b[34;01mpandas\u001b[39;00m\u001b[34;01m.\u001b[39;00m\u001b[34;01m_libs\u001b[39;00m\u001b[34;01m.\u001b[39;00m\u001b[34;01mproperties\u001b[39;00m\u001b[38;5;250m \u001b[39m\u001b[38;5;28;01mimport\u001b[39;00m cache_readonly\n\u001b[32m     15\u001b[39m \u001b[38;5;28;01mfrom\u001b[39;00m\u001b[38;5;250m \u001b[39m\u001b[34;01mpandas\u001b[39;00m\u001b[34;01m.\u001b[39;00m\u001b[34;01m_typing\u001b[39;00m\u001b[38;5;250m \u001b[39m\u001b[38;5;28;01mimport\u001b[39;00m (\n\u001b[32m     16\u001b[39m     F,\n\u001b[32m     17\u001b[39m     T,\n\u001b[32m     18\u001b[39m )\n\u001b[32m     19\u001b[39m \u001b[38;5;28;01mfrom\u001b[39;00m\u001b[38;5;250m \u001b[39m\u001b[34;01mpandas\u001b[39;00m\u001b[34;01m.\u001b[39;00m\u001b[34;01mutil\u001b[39;00m\u001b[34;01m.\u001b[39;00m\u001b[34;01m_exceptions\u001b[39;00m\u001b[38;5;250m \u001b[39m\u001b[38;5;28;01mimport\u001b[39;00m find_stack_level\n",
      "\u001b[36mFile \u001b[39m\u001b[32m~/Documentos/Materias/Semestre_7/Relatividad/RelativityGravitationAndCosmology/.venv/lib/python3.11/site-packages/pandas/_libs/__init__.py:13\u001b[39m\n\u001b[32m      1\u001b[39m __all__ = [\n\u001b[32m      2\u001b[39m     \u001b[33m\"\u001b[39m\u001b[33mNaT\u001b[39m\u001b[33m\"\u001b[39m,\n\u001b[32m      3\u001b[39m     \u001b[33m\"\u001b[39m\u001b[33mNaTType\u001b[39m\u001b[33m\"\u001b[39m,\n\u001b[32m   (...)\u001b[39m\u001b[32m      9\u001b[39m     \u001b[33m\"\u001b[39m\u001b[33mInterval\u001b[39m\u001b[33m\"\u001b[39m,\n\u001b[32m     10\u001b[39m ]\n\u001b[32m---> \u001b[39m\u001b[32m13\u001b[39m \u001b[38;5;28;01mfrom\u001b[39;00m\u001b[38;5;250m \u001b[39m\u001b[34;01mpandas\u001b[39;00m\u001b[34;01m.\u001b[39;00m\u001b[34;01m_libs\u001b[39;00m\u001b[34;01m.\u001b[39;00m\u001b[34;01minterval\u001b[39;00m\u001b[38;5;250m \u001b[39m\u001b[38;5;28;01mimport\u001b[39;00m Interval\n\u001b[32m     14\u001b[39m \u001b[38;5;28;01mfrom\u001b[39;00m\u001b[38;5;250m \u001b[39m\u001b[34;01mpandas\u001b[39;00m\u001b[34;01m.\u001b[39;00m\u001b[34;01m_libs\u001b[39;00m\u001b[34;01m.\u001b[39;00m\u001b[34;01mtslibs\u001b[39;00m\u001b[38;5;250m \u001b[39m\u001b[38;5;28;01mimport\u001b[39;00m (\n\u001b[32m     15\u001b[39m     NaT,\n\u001b[32m     16\u001b[39m     NaTType,\n\u001b[32m   (...)\u001b[39m\u001b[32m     21\u001b[39m     iNaT,\n\u001b[32m     22\u001b[39m )\n",
      "\u001b[36mFile \u001b[39m\u001b[32m~/Documentos/Materias/Semestre_7/Relatividad/RelativityGravitationAndCosmology/.venv/lib/python3.11/site-packages/pandas/_libs/interval.pyx:1\u001b[39m, in \u001b[36minit pandas._libs.interval\u001b[39m\u001b[34m()\u001b[39m\n",
      "\u001b[31mValueError\u001b[39m: numpy.dtype size changed, may indicate binary incompatibility. Expected 96 from C header, got 88 from PyObject"
     ]
    }
   ],
   "source": [
    "import bqplot as bqp\n",
    "import ipywidgets as widgets\n",
    "\n",
    "# Posición inicial\n",
    "x = [0.5]\n",
    "y = [0.5]\n",
    "\n",
    "sc_x = bqp.LinearScale()\n",
    "sc_y = bqp.LinearScale()\n",
    "\n",
    "point = bqp.Scatter(x=x, y=y, scales={'x': sc_x, 'y': sc_y}, enable_move=True, colors=['red'], default_size=100)\n",
    "\n",
    "def on_drag(change):\n",
    "    new_x, new_y = point.x[0], point.y[0]\n",
    "    print(f\"x = {new_x:.3f}, y = {new_y:.3f}\")\n",
    "\n",
    "point.observe(on_drag, names=['x', 'y'])\n",
    "\n",
    "ax_x = bqp.Axis(scale=sc_x)\n",
    "ax_y = bqp.Axis(scale=sc_y, orientation='vertical')\n",
    "\n",
    "fig = bqp.Figure(marks=[point], axes=[ax_x, ax_y], title='Arrastra el punto')\n",
    "fig\n"
   ]
  },
  {
   "cell_type": "code",
   "execution_count": null,
   "id": "aa2fc785",
   "metadata": {},
   "outputs": [],
   "source": []
  }
 ],
 "metadata": {
  "kernelspec": {
   "display_name": ".venv",
   "language": "python",
   "name": "python3"
  },
  "language_info": {
   "codemirror_mode": {
    "name": "ipython",
    "version": 3
   },
   "file_extension": ".py",
   "mimetype": "text/x-python",
   "name": "python",
   "nbconvert_exporter": "python",
   "pygments_lexer": "ipython3",
   "version": "3.11.2"
  }
 },
 "nbformat": 4,
 "nbformat_minor": 5
}
